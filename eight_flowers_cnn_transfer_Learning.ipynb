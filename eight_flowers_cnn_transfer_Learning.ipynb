{
 "cells": [
  {
   "cell_type": "markdown",
   "metadata": {
    "colab_type": "text",
    "id": "view-in-github"
   },
   "source": [
    "<a href=\"https://colab.research.google.com/github/wooihaw/flowers_classification/blob/main/eight_flowers_cnn_transfer_Learning.ipynb\" target=\"_parent\"><img src=\"https://colab.research.google.com/assets/colab-badge.svg\" alt=\"Open In Colab\"/></a>"
   ]
  },
  {
   "cell_type": "markdown",
   "metadata": {
    "id": "izPXh8F0PCWp"
   },
   "source": [
    "#Classification of eight types of flowers with transfer learning\n",
    "##In this example, we are going to train a CNN model with transfer learning for the classfication of eight types of flowers"
   ]
  },
  {
   "cell_type": "code",
   "execution_count": null,
   "metadata": {
    "colab": {
     "base_uri": "https://localhost:8080/"
    },
    "id": "DncYnUx1ACOs",
    "outputId": "b2cb05c6-3c05-42ad-c76c-8e3d1da80fea"
   },
   "outputs": [],
   "source": [
    "# Mount Google Drive\n",
    "from google.colab import drive\n",
    "drive.mount('/content/drive')"
   ]
  },
  {
   "cell_type": "code",
   "execution_count": null,
   "metadata": {
    "id": "wy27dMUTACOt"
   },
   "outputs": [],
   "source": [
    "# Extract dataset from Google Drive\n",
    "!cd /content/\n",
    "!unzip /content/drive/MyDrive/eight_flowers.zip > /dev/null"
   ]
  },
  {
   "cell_type": "code",
   "execution_count": null,
   "metadata": {
    "colab": {
     "base_uri": "https://localhost:8080/"
    },
    "id": "5ODyVM7ZACOv",
    "outputId": "348be8ed-8284-4b27-d7a3-d6edad35ff02"
   },
   "outputs": [],
   "source": [
    "# Load modules\n",
    "import tensorflow as tf\n",
    "from tensorflow.keras.layers import Dense, Flatten, Dropout, GlobalAveragePooling2D\n",
    "from tensorflow.keras.preprocessing.image import ImageDataGenerator, load_img, img_to_array\n",
    "from tensorflow.keras.applications.inception_v3 import InceptionV3\n",
    "from tensorflow.keras import Model\n",
    "from tensorflow.keras.optimizers import RMSprop\n",
    "from sklearn.metrics import confusion_matrix\n",
    "import numpy as np\n",
    "import matplotlib.pyplot as plt\n",
    "\n",
    "# Setup foldres for training, validation and testing images\n",
    "train_dir = 'eight_flowers/train/'\n",
    "test_dir = 'eight_flowers/test/'\n",
    "val_dir = 'eight_flowers/valid/'\n",
    "\n",
    "# Stream images from folders\n",
    "train_datagen = ImageDataGenerator(rescale=1/255.)\n",
    "\n",
    "test_datagen = ImageDataGenerator(rescale=1/255.)\n",
    "\n",
    "val_datagen = ImageDataGenerator(rescale=1/255.)\n",
    "\n",
    "train_generator = train_datagen.flow_from_directory(\n",
    "                    train_dir,\n",
    "                    batch_size=32,\n",
    "                    target_size=(150,150),\n",
    "                    class_mode='categorical')\n",
    "\n",
    "test_generator = test_datagen.flow_from_directory(\n",
    "                    test_dir,\n",
    "                    batch_size=32,\n",
    "                    target_size=(150,150),\n",
    "                    class_mode='categorical')\n",
    "\n",
    "val_generator = val_datagen.flow_from_directory(\n",
    "                    val_dir,\n",
    "                    batch_size=32,\n",
    "                    target_size=(150,150),\n",
    "                    class_mode='categorical')"
   ]
  },
  {
   "cell_type": "code",
   "execution_count": null,
   "metadata": {
    "colab": {
     "base_uri": "https://localhost:8080/"
    },
    "id": "NSNjLjgVACOv",
    "outputId": "2e308d64-2708-44a4-ff80-98dddc297b46"
   },
   "outputs": [],
   "source": [
    "# Import the inception mode, do not include the fully-connected layer at the top as the last layer of the network\n",
    "base_model = InceptionV3(input_shape=(150, 150, 3), include_top=False, weights='imagenet')\n",
    "\n",
    "# Make all the layers in the pre-trained model non-trainable\n",
    "for layer in base_model.layers:\n",
    "    layer.trainable = False\n",
    "\n",
    "last_layer = base_model.get_layer('mixed7')\n",
    "print('last layer output shape: ', last_layer.output_shape)\n",
    "last_output = last_layer.output\n",
    "\n",
    "# Applies average pooling on the spatial dimensions until each spatial dimension is one\n",
    "x = GlobalAveragePooling2D()(last_output)\n",
    "# Add a fully connected layer with 1024 hidden units and ReLU activation\n",
    "x = Dense(512, activation='relu')(x)\n",
    "# Add a dropout rate of 0.2\n",
    "x = Dropout(0.2)(x)\n",
    "# Add a final sigmoid layer for classification\n",
    "x = Dense(8, activation='softmax')(x)\n",
    "\n",
    "model = Model(base_model.input, x)\n",
    "\n",
    "model.compile(optimizer ='rmsprop',\n",
    "              loss = 'categorical_crossentropy',\n",
    "              metrics = ['acc'])\n",
    "\n",
    "history = model.fit(train_generator,\n",
    "                    steps_per_epoch=195,\n",
    "                    epochs=3,\n",
    "                    validation_data=val_generator,\n",
    "                    validation_steps=19,\n",
    "                    verbose=1)"
   ]
  },
  {
   "cell_type": "code",
   "execution_count": null,
   "metadata": {
    "colab": {
     "base_uri": "https://localhost:8080/"
    },
    "id": "6vdIX8buPka_",
    "outputId": "be9ceb6f-7868-4ee2-bf91-4b09ef6eb6da"
   },
   "outputs": [],
   "source": [
    "scores = model.evaluate(test_generator)\n",
    "print(f\"{model.metrics_names[0]}: {scores[0]:.2f}\")\n",
    "print(f\"{model.metrics_names[1]}: {scores[1]:.2%}\")"
   ]
  },
  {
   "cell_type": "code",
   "execution_count": null,
   "metadata": {
    "colab": {
     "base_uri": "https://localhost:8080/",
     "height": 472
    },
    "id": "fGfWD2OFACOv",
    "outputId": "418a06fc-96c5-42c2-fd9b-82d4a4e82365"
   },
   "outputs": [],
   "source": [
    "# Plot model accuracy and lose\n",
    "acc = history.history['acc']\n",
    "loss = history.history['loss']\n",
    "val_acc = history.history['val_acc']\n",
    "val_loss = history.history['val_loss']\n",
    "\n",
    "plt.plot(np.arange(1, len(acc) + 1), acc, 'b', label='accuracy')\n",
    "plt.plot(np.arange(1, len(val_acc) + 1), val_acc, 'g', label='val_accuracy')\n",
    "plt.xlabel('Epoch')\n",
    "plt.xticks(np.arange(1, len(acc) + 1))\n",
    "plt.ylabel('Accuracy')\n",
    "plt.title('Model Accuracy')\n",
    "plt.legend(loc=0)\n",
    "plt.show()\n",
    "\n",
    "plt.plot(np.arange(1, len(loss) + 1), loss, 'b', label='loss')\n",
    "plt.plot(np.arange(1, len(val_loss) + 1), val_loss, 'g', label='val_loss')\n",
    "plt.xlabel('Epoch')\n",
    "plt.xticks(np.arange(1, len(loss) + 1))\n",
    "plt.ylabel('Loss')\n",
    "plt.title('Model Loss')\n",
    "plt.legend(loc=0)\n",
    "plt.show()"
   ]
  },
  {
   "cell_type": "code",
   "execution_count": null,
   "metadata": {
    "colab": {
     "base_uri": "https://localhost:8080/"
    },
    "id": "hXtrO4ghACOw",
    "outputId": "be3828e3-95ce-40af-c30b-d413367b7a22"
   },
   "outputs": [],
   "source": [
    "# load class indices\n",
    "class_indices = train_generator.class_indices\n",
    "map2class = {class_indices[k]:k for k in class_indices}\n",
    "print(map2class)"
   ]
  },
  {
   "cell_type": "code",
   "execution_count": null,
   "metadata": {
    "colab": {
     "base_uri": "https://localhost:8080/",
     "height": 646
    },
    "id": "5U4mxG4mhs5Q",
    "outputId": "32c77ea1-5d1f-4cda-95f4-9ee7a46ff588"
   },
   "outputs": [],
   "source": [
    "# Display the test image and show the predicted class\n",
    "file = 'eight_flowers/test/sunflower/sunflower_test_0001.jpg'\n",
    "img = load_img(file, target_size=(150, 150))\n",
    "x = img_to_array(img)/255.\n",
    "x = np.expand_dims(x, axis=0)\n",
    "classes = model.predict(x)\n",
    "print(classes)\n",
    "for i, k in enumerate(class_indices):\n",
    "  print(f'{k:10}: {classes[0, i]: .3f}')\n",
    "\n",
    "plt.axis(False)\n",
    "plt.imshow(load_img(file))\n",
    "plt.title(f'Predicted as {map2class[classes.argmax()]}', y=0, pad=-10, verticalalignment=\"top\")"
   ]
  }
 ],
 "metadata": {
  "accelerator": "GPU",
  "colab": {
   "authorship_tag": "ABX9TyNyySbj2abWDYYQwaMf8PPz",
   "gpuType": "T4",
   "include_colab_link": true,
   "provenance": []
  },
  "kernelspec": {
   "display_name": "Python 3 (ipykernel)",
   "language": "python",
   "name": "python3"
  },
  "language_info": {
   "codemirror_mode": {
    "name": "ipython",
    "version": 3
   },
   "file_extension": ".py",
   "mimetype": "text/x-python",
   "name": "python",
   "nbconvert_exporter": "python",
   "pygments_lexer": "ipython3",
   "version": "3.11.7"
  }
 },
 "nbformat": 4,
 "nbformat_minor": 4
}
